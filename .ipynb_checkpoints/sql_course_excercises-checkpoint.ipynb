{
 "cells": [
  {
   "cell_type": "markdown",
   "id": "04eb9e52",
   "metadata": {},
   "source": [
    "Info about table schema in postgreSQL"
   ]
  },
  {
   "cell_type": "markdown",
   "id": "8d2486c7",
   "metadata": {},
   "source": [
    "SELECT *\n",
    "FROM information_schema.columns\n",
    "WHERE table_schema = 'public'\n",
    "AND table_name = 'photos';"
   ]
  },
  {
   "cell_type": "markdown",
   "id": "4ddcf1ff",
   "metadata": {},
   "source": [
    "You are designing a database for a book publishing company.  The database needs to store a table of authors and books. An author has many books.  This means that books should have a foreign key column that references an author.\n",
    "\n",
    "Write a query that will join together these two tables.  For each book, print the title of the book and the name of the author."
   ]
  },
  {
   "cell_type": "markdown",
   "id": "25722918",
   "metadata": {},
   "source": [
    "CREATE TABLE authors (\n",
    "    id SERIAL PRIMARY KEY,\n",
    "    name VARCHAR(100)\n",
    ");\n",
    "\n",
    "CREATE TABLE books (\n",
    "    id SERIAL PRIMARY KEY,\n",
    "    title VARCHAR(100),\n",
    "    author_id INTEGER REFERENCES authors(id)\n",
    ");\n",
    "\n",
    "SELECT title, name FROM books \n",
    "JOIN authors ON books.author_id = authors.id;"
   ]
  },
  {
   "cell_type": "markdown",
   "id": "b57430c3",
   "metadata": {},
   "source": [
    "You are still authoring a database for a book publisher.  The database has a table of authors and a table of books .\n",
    "\n",
    "Write a query that will return the title of each book, along with the name of the author.  All authors should be included, even if they do not have a book associated with them."
   ]
  },
  {
   "cell_type": "markdown",
   "id": "b8d8274e",
   "metadata": {},
   "source": [
    "SELECT title, name FROM authors as a\n",
    "LEFT JOIN books as b on a.id = b.author_id;\n",
    "\n",
    "or\n",
    "\n",
    "SELECT title, name FROM books as b\n",
    "RIGHT JOIN authors as a on a.id = b.author_id;"
   ]
  },
  {
   "cell_type": "markdown",
   "id": "842e9efc",
   "metadata": {},
   "source": [
    "Hmmm...I wonder if any authors are writing their own reviews for books! You are working with a database of books, authors, and reviews\n",
    "\n",
    "Write a query that will return the title of each book, along with the name of the author, and the rating of a review.  Only show rows where the author of the book is also the author of the review."
   ]
  },
  {
   "cell_type": "markdown",
   "id": "0109449a",
   "metadata": {},
   "source": [
    "CREATE TABLE books (\n",
    "    id SERIAL PRIMARY KEY,\n",
    "    title VARCHAR(50),\n",
    "    author_id INTEGER REFERENCES authors(author_id) ON DELETE SET NULL\n",
    ");\n",
    "\n",
    "CREATE TABLE authors (\n",
    "    id SERIAL PRIMARY KEY,\n",
    "    name VARCHAR(50)\n",
    ");\n",
    "\n",
    "CREATE TABLE reviews (\n",
    "    id SERIAL PRIMARY KEY,\n",
    "    rating INTEGER,\n",
    "    reviewer_id INTEGER REFERENCES authors(author_id) ON DELETE CASCADE\n",
    ");\n",
    "\n",
    "SELECT b.title, a.name, r.rating FROM books as b\n",
    "JOIN authors as a ON b.author_id = a.id \n",
    "JOIN reviews as r ON r.book_id = b.id \n",
    "AND r.reviewer_id = b.author_id;\n",
    "\n",
    "or \n",
    "\n",
    "SELECT b.title, a.name, r.rating FROM books as b\n",
    "JOIN authors as a ON b.author_id = a.id \n",
    "JOIN reviews as r ON r.book_id = b.id \n",
    "WHERE r.reviewer_id = b.author_id;"
   ]
  },
  {
   "cell_type": "markdown",
   "id": "dc0ddb13",
   "metadata": {},
   "source": [
    "Write a query that will print an author's id and the number of books they have authored."
   ]
  },
  {
   "cell_type": "markdown",
   "id": "8ec80c92",
   "metadata": {},
   "source": [
    "SELECT author_id, COUNT(*)\n",
    "FROM books GROUP BY author_id;"
   ]
  },
  {
   "cell_type": "markdown",
   "id": "8aa231fd",
   "metadata": {},
   "source": [
    "Write a query that will print an author's name and the number of books they have authored."
   ]
  },
  {
   "cell_type": "markdown",
   "id": "2eaf30e6",
   "metadata": {},
   "source": [
    "SELECT a.name, COUNT(*) FROM books AS b\n",
    "JOIN authors AS a ON b.author_id = a.id\n",
    "GROUP BY b.author_id, a.name;"
   ]
  },
  {
   "cell_type": "markdown",
   "id": "73558a17",
   "metadata": {},
   "source": [
    "You are trying to find the phone manufacturers with the greatest revenue from selling phones.\n",
    "\n",
    "Given a table of phones, print the names of manufacturers and total revenue (price * units_sold) for all phones.  Only print the manufacturers who have revenue greater than 2,000,000 for all the phones they sold."
   ]
  },
  {
   "cell_type": "markdown",
   "id": "a7a08f6d",
   "metadata": {},
   "source": [
    "CREATE TABLE phones (\n",
    "    id SERIAL PRIMARY KEY,\n",
    "    name VARCHAR (50),\n",
    "    manufacturer VARCHAR (50),\n",
    "    price INTEGER,\n",
    "    units_sold INTEGER\n",
    ");\n",
    "\n",
    "SELECT manufacturer, SUM(price*units_sold) AS total_revenue\n",
    "FROM phones \n",
    "GROUP BY manufacturer\n",
    "HAVING SUM(price*units_sold) > 2000000;"
   ]
  },
  {
   "cell_type": "markdown",
   "id": "101c8c13",
   "metadata": {},
   "source": [
    "Let's get more familiar with the E-Commerce dataset.\n",
    "Write a query to print the number of paid and unpaid orders.\n",
    "\n"
   ]
  },
  {
   "cell_type": "markdown",
   "id": "888b7616",
   "metadata": {},
   "source": [
    "SELECT paid, COUNT(*) AS payment_status \n",
    "FROM orders AS o\n",
    "GROUP BY paid;"
   ]
  },
  {
   "cell_type": "markdown",
   "id": "dd766937",
   "metadata": {},
   "source": [
    "Write a query that will print the manufacturer of phones where the phone's price is less than 170.  Also print all manufacturer that have created more than two phones.\n",
    "\n",
    "IMPORTANT: You don't need to wrap each query with parenthesis! Your solution should not have any parens in it."
   ]
  },
  {
   "cell_type": "markdown",
   "id": "2a7a52c1",
   "metadata": {},
   "source": [
    "SELECT manufacturer FROM phones\n",
    "WHERE price < 170\n",
    "\n",
    "UNION \n",
    "\n",
    "SELECT manufacturer FROM phones\n",
    "GROUP BY manufacturer \n",
    "HAVING COUNT(*) > 2;"
   ]
  },
  {
   "cell_type": "markdown",
   "id": "2c6a8213",
   "metadata": {},
   "source": [
    "Write a query that prints the name and price for each phone.  In addition, print out the ratio of the phones price against max price of all phones (so price / max price).  Rename this third column to price_ratio"
   ]
  },
  {
   "cell_type": "markdown",
   "id": "0588651a",
   "metadata": {},
   "source": []
  },
  {
   "cell_type": "markdown",
   "id": "d6d87274",
   "metadata": {},
   "source": []
  },
  {
   "cell_type": "markdown",
   "id": "b9897cae",
   "metadata": {},
   "source": []
  },
  {
   "cell_type": "markdown",
   "id": "699656be",
   "metadata": {},
   "source": []
  }
 ],
 "metadata": {
  "kernelspec": {
   "display_name": "Python 3 (ipykernel)",
   "language": "python",
   "name": "python3"
  },
  "language_info": {
   "codemirror_mode": {
    "name": "ipython",
    "version": 3
   },
   "file_extension": ".py",
   "mimetype": "text/x-python",
   "name": "python",
   "nbconvert_exporter": "python",
   "pygments_lexer": "ipython3",
   "version": "3.10.0"
  }
 },
 "nbformat": 4,
 "nbformat_minor": 5
}
