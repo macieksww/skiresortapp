{
 "cells": [
  {
   "cell_type": "markdown",
   "id": "02d79daa",
   "metadata": {},
   "source": [
    "Retrieve all select"
   ]
  },
  {
   "cell_type": "markdown",
   "id": "21c2cee5",
   "metadata": {},
   "source": [
    "SELECT * FROM cities;"
   ]
  },
  {
   "cell_type": "markdown",
   "id": "a2d131d7",
   "metadata": {},
   "source": [
    "Retrieve values that are result of some operations on columns with AS clause"
   ]
  },
  {
   "cell_type": "markdown",
   "id": "7efe94a5",
   "metadata": {},
   "source": [
    "SELECT name, population+area AS pop_density FROM cities;"
   ]
  },
  {
   "cell_type": "markdown",
   "id": "b2a25563",
   "metadata": {},
   "source": [
    "String opearations on SELECT"
   ]
  },
  {
   "cell_type": "markdown",
   "id": "c81531e3",
   "metadata": {},
   "source": [
    "SELECT name || country AS name_country FROM cities;\n",
    "SELECT name || ', ' || country AS name_country FROM cities;\n",
    "SELECT CONCAT(name,  ', ',  country) AS name_country FROM cities;\n",
    "SELECT CONCAT(UPPER(name),  ', ',  LOWER(country)) AS name_country FROM cities;\n",
    "SELECT UPPER(CONCAT(name,  ', ',  country)) AS name_country FROM cities;\n",
    "SELECT LENGTH(CONCAT(name,  ', ',  country)) AS city_country_len FROM cities;"
   ]
  },
  {
   "cell_type": "markdown",
   "id": "7db23b40",
   "metadata": {},
   "source": [
    "SELECT WHERE operations\n",
    "DB SERVER:\n",
    "\n",
    "    1. Takes the Table (FROM)\n",
    "    2. Chooses specific rows (WHERE)\n",
    "    3. Selects specific columns (SELECT)"
   ]
  },
  {
   "cell_type": "markdown",
   "id": "b3e3ea12",
   "metadata": {},
   "source": [
    "SELECT name FROM cities WHERE LENGTH(country) = 7;\n",
    "SELECT name FROM cities WHERE country = 'Germany';\n",
    "SELECT name FROM cities WHERE population/area > 100;\n",
    "SELECT name FROM cities WHERE population/area BETWEEN 1 AND 200;\n",
    "SELECT name FROM cities WHERE name IN ('Berlin');\n",
    "SELECT name FROM cities WHERE LOWER(name) IN ('berlin');\n",
    "SELECT name FROM cities WHERE LOWER(name) NOT IN ('berlin');\n",
    "SELECT name FROM cities WHERE LOWER(name) NOT IN ('berlin') AND area > 100;\n",
    "SELECT name FROM cities WHERE LOWER(name) NOT IN ('berlin') OR area > 100;\n",
    "SELECT name, population/area AS density FROM cities WHERE population/area > 100;"
   ]
  },
  {
   "cell_type": "markdown",
   "id": "66a3d618",
   "metadata": {},
   "source": [
    "SELECT with JOIN"
   ]
  },
  {
   "cell_type": "markdown",
   "id": "4038b539",
   "metadata": {},
   "source": [
    "SELECT url, username FROM photos \n",
    "JOIN users ON users.id = photos.id;\n",
    "\n",
    "SELECT contents, username FROM comments \n",
    "JOIN users ON comments.user_id = users.id\n",
    "WHERE username = 'Alfredo66';\n",
    "\n",
    "<!-- In this case table_1 JOIN table_2 is the same as table_2 JOIN table_1 -->\n",
    "\n",
    "SELECT contents, url FROM comments\n",
    "JOIN photos on comments.photo_id = photos.id;\n",
    "\n",
    "SELECT contents, url FROM photos\n",
    "JOIN comments on comments.photo_id = photos.id;\n",
    "\n",
    "<!-- Adding table_name.id (id is ambiguous) -->\n",
    "\n",
    "SELECT comments.id FROM photos\n",
    "JOIN comments on comments.photo_id = photos.id;\n",
    "\n",
    "SELECT photos.id FROM photos\n",
    "JOIN comments on comments.photo_id = photos.id;"
   ]
  },
  {
   "cell_type": "markdown",
   "id": "8956f510",
   "metadata": {},
   "source": [
    "SELECT WITH JOIN AS"
   ]
  },
  {
   "cell_type": "markdown",
   "id": "fa3f2896",
   "metadata": {},
   "source": [
    "SELECT p.user_id, c.contents FROM photos AS p\n",
    "JOIN comments as c on p.id = c.photo_id;\n",
    "\n",
    "SELECT com.contents AS com_contents FROM COMMENTS as com;\n",
    "\n",
    "SELECT p.url AS photo_url, u.username AS user_name \n",
    "FROM photos AS p JOIN users as u ON p.user_id = u.id;"
   ]
  },
  {
   "cell_type": "markdown",
   "id": "3d25a6ca",
   "metadata": {},
   "source": [
    "Different types of JOINS"
   ]
  },
  {
   "cell_type": "markdown",
   "id": "a3d048b5",
   "metadata": {},
   "source": [
    "LEFT JOIN"
   ]
  },
  {
   "cell_type": "markdown",
   "id": "610fedef",
   "metadata": {},
   "source": [
    "SELECT p.url AS photo_url, u.username AS user_name \n",
    "FROM photos AS p LEFT JOIN users as u ON p.user_id = u.id;"
   ]
  },
  {
   "cell_type": "markdown",
   "id": "9df7f30b",
   "metadata": {},
   "source": [
    "RIGHT JOIN"
   ]
  },
  {
   "cell_type": "markdown",
   "id": "c94aa7a6",
   "metadata": {},
   "source": [
    "SELECT p.url AS photo_url, u.username AS user_name \n",
    "FROM photos AS p RIGHT JOIN users as u ON p.user_id = u.id;"
   ]
  },
  {
   "cell_type": "markdown",
   "id": "c2802203",
   "metadata": {},
   "source": [
    "FULL JOIN"
   ]
  },
  {
   "cell_type": "markdown",
   "id": "396e813a",
   "metadata": {},
   "source": [
    "SELECT p.url AS photo_url, u.username AS user_name \n",
    "FROM photos AS p FULL JOIN users as u ON p.user_id = u.id;"
   ]
  },
  {
   "cell_type": "markdown",
   "id": "dfd17606",
   "metadata": {},
   "source": [
    "JOIN PLUS WHERE"
   ]
  },
  {
   "cell_type": "markdown",
   "id": "024c3593",
   "metadata": {},
   "source": [
    "SELECT url, contents FROM COMMENTS AS c\n",
    "INNER JOIN photos as p ON c.photo_id = p.id\n",
    "WHERE c.user_id = p.user_id;\n",
    "\n",
    "SELECT p.url, c.contents, u.username FROM COMMENTS AS c\n",
    "INNER JOIN photos as p ON c.photo_id = p.id\n",
    "INNER JOIN users as u ON u.id = c.user_id\n",
    "WHERE c.user_id = p.user_id;\n",
    "\n"
   ]
  },
  {
   "cell_type": "markdown",
   "id": "fd726ec4",
   "metadata": {},
   "source": [
    "GROUP BY/AGGREGATION"
   ]
  },
  {
   "cell_type": "markdown",
   "id": "2be990e7",
   "metadata": {},
   "source": [
    "SELECT user_id FROM comments \n",
    "GROUP BY user_id;\n",
    "<!-- You can only SELECT a column that you GROUP BY -->\n",
    "\n",
    "SELECT c.id as comment_id, count(c.user_id) AS\n",
    "how_many_users_wrote_the_comment\n",
    "FROM comments AS c GROUP BY c.id;\n",
    "\n",
    "SELECT c.user_id, count(c.id)\n",
    "FROM comments AS c GROUP BY c.user_id;\n",
    "\n",
    "SELECT user_id, count(*)\n",
    "FROM comments GROUP BY user_id;\n",
    "\n",
    "SELECT photot_id, COUNT(*) FROM comments\n",
    "WHERE photo_id < 3\n",
    "GROUP BY photo_id\n",
    "HAVING COUNT(*) > 2;\n",
    "\n",
    "SELECT user_id, count(*) FROM comments\n",
    "WHERE photo_id < 3\n",
    "group BY user_id\n",
    "HAVING COUNT (*) > 2;"
   ]
  },
  {
   "cell_type": "markdown",
   "id": "5316acb6",
   "metadata": {},
   "source": [
    "SORTING"
   ]
  },
  {
   "cell_type": "markdown",
   "id": "365675a4",
   "metadata": {},
   "source": [
    "SELECT * FROM PRODUCTS\n",
    "ORDER BY weight;\n",
    "\n",
    "SELECT * FROM PRODUCTS\n",
    "ORDER BY weight ASC;\n",
    "\n",
    "SELECT * FROM PRODUCTS\n",
    "ORDER BY weight DESC;"
   ]
  },
  {
   "cell_type": "markdown",
   "id": "da19a7e2",
   "metadata": {},
   "source": [
    "OFFSET - skips first N rows from the result set\n",
    "LIMIT - takes first N rows from the result set\n",
    "OFFSET limits the range of the original dataset, LIMIT takes first N rows from the limited dataset"
   ]
  },
  {
   "cell_type": "markdown",
   "id": "3e7b5bc6",
   "metadata": {},
   "source": [
    "SELECT * FROM users LIMIT 5;\n",
    "SELECT * FROM users OFFSET 40 LIMIT 2;\n",
    "SELECT * FROM products ORDER BY price LIMIT 5;"
   ]
  },
  {
   "cell_type": "markdown",
   "id": "ff7e4ba9",
   "metadata": {},
   "source": [
    "SUBQUERIES"
   ]
  },
  {
   "cell_type": "markdown",
   "id": "76914789",
   "metadata": {},
   "source": [
    "SELECT name, price FROM products\n",
    "WHERE price > (\n",
    "\tSELECT MAX(price) FROM products\n",
    "  WHERE department = 'Toys'\n",
    ");"
   ]
  },
  {
   "cell_type": "markdown",
   "id": "6b0e824b",
   "metadata": {},
   "source": [
    "SELECT name, price, (\n",
    "  SELECT MAX(price) FROM products\n",
    ")\n",
    "FROM products\n",
    "WHERE price > 900;"
   ]
  },
  {
   "cell_type": "markdown",
   "id": "747a3631",
   "metadata": {},
   "source": [
    "SELECT name, price as p1, (\n",
    "  SELECT price as p2 FROM products WHERE id =1\n",
    ")\n",
    "FROM products\n",
    "WHERE price > 900;"
   ]
  },
  {
   "cell_type": "markdown",
   "id": "0d6a3b1a",
   "metadata": {},
   "source": [
    "SELECT AVG(p.user_orders)\n",
    "FROM\n",
    "(\n",
    "  SELECT user_id, COUNT(*) AS user_orders \n",
    "  FROM orders \n",
    "  GROUP BY user_id\n",
    ") AS p\n"
   ]
  },
  {
   "cell_type": "markdown",
   "id": "3d62ef2b",
   "metadata": {},
   "source": [
    "SELECT * FROM orders AS o\n",
    "WHERE o.product_id IN (\n",
    "  SELECT id FROM products as p\n",
    "  WHERE p.price/p.weight > 5\n",
    ")"
   ]
  },
  {
   "cell_type": "markdown",
   "id": "e8ae08c9",
   "metadata": {},
   "source": [
    "SELECT p.name FROM products AS p\n",
    "WHERE p.price > (\n",
    "  SELECT AVG(subp.price) FROM products AS subp\n",
    ");"
   ]
  },
  {
   "cell_type": "markdown",
   "id": "3a07250f",
   "metadata": {},
   "source": [
    "SELECT name FROM products AS p\n",
    "WHERE p.department NOT IN (\n",
    "  SELECT p1.department FROM products AS p1\n",
    "  GROUP BY p1.department\n",
    "  HAVING MIN(p1.price) < 100\n",
    ");"
   ]
  },
  {
   "cell_type": "markdown",
   "id": "1a4dcbe0",
   "metadata": {},
   "source": [
    "SELECT p.name, p.department, p.price FROM products AS p\n",
    "WHERE p.price > (\n",
    "  SELECT MAX(p1.price) FROM products AS p1\n",
    "  WHERE p1.department = 'Industrial'\n",
    ")\n",
    "\n",
    "Which is equal to\n",
    "\n",
    "SELECT p.name, p.department, p.price FROM products AS p\n",
    "WHERE p.price > ALL (\n",
    "  SELECT price FROM products AS p1\n",
    "  WHERE p1.department = 'Industrial'\n",
    ")"
   ]
  },
  {
   "cell_type": "markdown",
   "id": "720f964e",
   "metadata": {},
   "source": []
  }
 ],
 "metadata": {
  "kernelspec": {
   "display_name": "Python 3 (ipykernel)",
   "language": "python",
   "name": "python3"
  },
  "language_info": {
   "codemirror_mode": {
    "name": "ipython",
    "version": 3
   },
   "file_extension": ".py",
   "mimetype": "text/x-python",
   "name": "python",
   "nbconvert_exporter": "python",
   "pygments_lexer": "ipython3",
   "version": "3.10.0"
  }
 },
 "nbformat": 4,
 "nbformat_minor": 5
}
