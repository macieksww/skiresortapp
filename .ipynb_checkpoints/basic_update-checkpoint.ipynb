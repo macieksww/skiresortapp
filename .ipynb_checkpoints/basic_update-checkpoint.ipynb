{
 "cells": [
  {
   "cell_type": "markdown",
   "id": "6ee3c45c",
   "metadata": {},
   "source": [
    "Drop table"
   ]
  },
  {
   "cell_type": "markdown",
   "id": "d3bf30a2",
   "metadata": {},
   "source": [
    "DROP TABLE table_name;"
   ]
  },
  {
   "cell_type": "markdown",
   "id": "9c668f74",
   "metadata": {},
   "source": [
    "SET opeartions"
   ]
  },
  {
   "cell_type": "markdown",
   "id": "5c8a907f",
   "metadata": {},
   "source": [
    "UPDATE cities SET population = 50 WHERE name = 'Berlin';"
   ]
  },
  {
   "cell_type": "markdown",
   "id": "32ea601a",
   "metadata": {},
   "source": [
    "DELETE opeartions"
   ]
  },
  {
   "cell_type": "markdown",
   "id": "cef3c986",
   "metadata": {},
   "source": [
    "DELETE FROM cities WHERE country IN ('England', 'France');\n",
    "DELETE FROM cities WHERE LENGTH(CONCAT(country, area)) > 12;"
   ]
  },
  {
   "cell_type": "markdown",
   "id": "9804567e",
   "metadata": {},
   "source": [
    "DELETE FROM table that is referred to in different table (violation of FK constraint) - default option"
   ]
  },
  {
   "cell_type": "markdown",
   "id": "ef51979a",
   "metadata": {},
   "source": [
    "DELETE FROM users WHERE id = 2;"
   ]
  },
  {
   "cell_type": "markdown",
   "id": "d993a045",
   "metadata": {},
   "source": [
    "update or delete on table \"users\" violates foreign key constraint \"photos_user_id_fkey\" on table \"photos\""
   ]
  },
  {
   "cell_type": "markdown",
   "id": "7297a42b",
   "metadata": {},
   "source": [
    "JOIN/INNER JOIN - joins only the rows from 2 tables that have the correspondung PK-FK"
   ]
  },
  {
   "cell_type": "markdown",
   "id": "35f71c19",
   "metadata": {},
   "source": [
    "SELECT name FROM phones ORDER BY price DESC  LIMIT 2 OFFSET 1;"
   ]
  },
  {
   "cell_type": "markdown",
   "id": "0313cc8d",
   "metadata": {},
   "source": [
    "UNION \n",
    "\n",
    "By default deletes duplicates of rows (if appear in both queries)\n",
    "\n",
    "If we want to show all rows, UNION ALL"
   ]
  },
  {
   "cell_type": "markdown",
   "id": "cb8bf304",
   "metadata": {},
   "source": [
    "(\n",
    "  SELECT * FROM products \n",
    "  ORDER BY price DESC\n",
    "  LIMIT 4\n",
    ")\n",
    "UNION ALL\n",
    "(\n",
    "  SELECT * FROM products \n",
    "  ORDER BY price/weight DESC\n",
    "  LIMIT 4\n",
    ");"
   ]
  },
  {
   "cell_type": "markdown",
   "id": "279b456e",
   "metadata": {},
   "source": [
    "UNION works if we combine columns of the same type"
   ]
  },
  {
   "cell_type": "markdown",
   "id": "7d62ead7",
   "metadata": {},
   "source": [
    "SELECT weight FROM products\n",
    "UNION \n",
    "SELECT price FROM products"
   ]
  },
  {
   "cell_type": "markdown",
   "id": "9961f818",
   "metadata": {},
   "source": [
    "UNION doesn't work if we combine columns of different types"
   ]
  },
  {
   "cell_type": "markdown",
   "id": "0ba52ea6",
   "metadata": {},
   "source": [
    "SELECT weight FROM products\n",
    "UNION \n",
    "SELECT name FROM products"
   ]
  },
  {
   "cell_type": "markdown",
   "id": "7d718f27",
   "metadata": {},
   "source": [
    "INTERSECT\n",
    "\n",
    "INTERSECT finds the common rows in the results of 2 queries. Removes Duplicates.\n",
    "\n",
    "INTERSECT ALL finds the common rows in the results of 2 queries. Doesn't remove duplicates."
   ]
  },
  {
   "cell_type": "markdown",
   "id": "aafe9a78",
   "metadata": {},
   "source": [
    "(\n",
    "SELECT weight, name FROM products\n",
    "ORDER BY weight DESC\n",
    "OFFSET 0\n",
    "LIMIT 5\n",
    ")\n",
    "INTERSECT \n",
    "(\n",
    "SELECT weight, name FROM products\n",
    "ORDER BY weight DESC\n",
    "OFFSET 1\n",
    "LIMIT 5\n",
    ");"
   ]
  },
  {
   "cell_type": "markdown",
   "id": "c9d76c91",
   "metadata": {},
   "source": [
    "EXCEPT\n",
    "\n",
    "Returns rows that appear in 1. result set but not in 2. result set\n",
    "\n",
    "EXCEPT ALL includes duplicates in the 1. result set"
   ]
  },
  {
   "cell_type": "markdown",
   "id": "1a1c8421",
   "metadata": {},
   "source": [
    "(\n",
    "SELECT weight, name FROM products\n",
    "ORDER BY weight DESC\n",
    "OFFSET 0\n",
    "LIMIT 5\n",
    ")\n",
    "EXCEPT \n",
    "(\n",
    "SELECT weight, name FROM products\n",
    "ORDER BY weight DESC\n",
    "OFFSET 1\n",
    "LIMIT 5\n",
    ");"
   ]
  },
  {
   "cell_type": "code",
   "execution_count": null,
   "id": "9b85f336",
   "metadata": {},
   "outputs": [],
   "source": []
  }
 ],
 "metadata": {
  "kernelspec": {
   "display_name": "Python 3 (ipykernel)",
   "language": "python",
   "name": "python3"
  },
  "language_info": {
   "codemirror_mode": {
    "name": "ipython",
    "version": 3
   },
   "file_extension": ".py",
   "mimetype": "text/x-python",
   "name": "python",
   "nbconvert_exporter": "python",
   "pygments_lexer": "ipython3",
   "version": "3.10.0"
  }
 },
 "nbformat": 4,
 "nbformat_minor": 5
}
