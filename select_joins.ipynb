{
 "cells": [
  {
   "cell_type": "markdown",
   "id": "da12cc71",
   "metadata": {},
   "source": [
    "Retrieve all select"
   ]
  },
  {
   "cell_type": "markdown",
   "id": "c1f5c211",
   "metadata": {},
   "source": [
    "SELECT * FROM cities;"
   ]
  },
  {
   "cell_type": "markdown",
   "id": "40355438",
   "metadata": {},
   "source": [
    "Retrieve values that are result of some operations on columns with AS clause"
   ]
  },
  {
   "cell_type": "markdown",
   "id": "2b3f6c2c",
   "metadata": {},
   "source": [
    "SELECT name, population+area AS pop_density FROM cities;"
   ]
  },
  {
   "cell_type": "markdown",
   "id": "3390da40",
   "metadata": {},
   "source": [
    "String opearations on SELECT"
   ]
  },
  {
   "cell_type": "markdown",
   "id": "541ee0b3",
   "metadata": {},
   "source": [
    "SELECT name || country AS name_country FROM cities;\n",
    "SELECT name || ', ' || country AS name_country FROM cities;\n",
    "SELECT CONCAT(name,  ', ',  country) AS name_country FROM cities;\n",
    "SELECT CONCAT(UPPER(name),  ', ',  LOWER(country)) AS name_country FROM cities;\n",
    "SELECT UPPER(CONCAT(name,  ', ',  country)) AS name_country FROM cities;\n",
    "SELECT LENGTH(CONCAT(name,  ', ',  country)) AS city_country_len FROM cities;"
   ]
  },
  {
   "cell_type": "markdown",
   "id": "1117f786",
   "metadata": {},
   "source": [
    "SELECT WHERE operations\n",
    "DB SERVER:\n",
    "\n",
    "    1. Takes the Table (FROM)\n",
    "    2. Chooses specific rows (WHERE)\n",
    "    3. Selects specific columns (SELECT)"
   ]
  },
  {
   "cell_type": "markdown",
   "id": "a2f40c53",
   "metadata": {},
   "source": [
    "SELECT name FROM cities WHERE LENGTH(country) = 7;\n",
    "SELECT name FROM cities WHERE country = 'Germany';\n",
    "SELECT name FROM cities WHERE population/area > 100;\n",
    "SELECT name FROM cities WHERE population/area BETWEEN 1 AND 200;\n",
    "SELECT name FROM cities WHERE name IN ('Berlin');\n",
    "SELECT name FROM cities WHERE LOWER(name) IN ('berlin');\n",
    "SELECT name FROM cities WHERE LOWER(name) NOT IN ('berlin');\n",
    "SELECT name FROM cities WHERE LOWER(name) NOT IN ('berlin') AND area > 100;\n",
    "SELECT name FROM cities WHERE LOWER(name) NOT IN ('berlin') OR area > 100;\n",
    "SELECT name, population/area AS density FROM cities WHERE population/area > 100;"
   ]
  },
  {
   "cell_type": "markdown",
   "id": "6fde7192",
   "metadata": {},
   "source": [
    "SELECT with JOIN"
   ]
  },
  {
   "cell_type": "markdown",
   "id": "65d837d7",
   "metadata": {},
   "source": [
    "SELECT url, username FROM photos \n",
    "JOIN users ON users.id = photos.id;\n",
    "\n",
    "SELECT contents, username FROM comments \n",
    "JOIN users ON comments.user_id = users.id\n",
    "WHERE username = 'Alfredo66';\n",
    "\n",
    "<!-- In this case table_1 JOIN table_2 is the same as table_2 JOIN table_1 -->\n",
    "\n",
    "SELECT contents, url FROM comments\n",
    "JOIN photos on comments.photo_id = photos.id;\n",
    "\n",
    "SELECT contents, url FROM photos\n",
    "JOIN comments on comments.photo_id = photos.id;\n",
    "\n",
    "<!-- Adding table_name.id (id is ambiguous) -->\n",
    "\n",
    "SELECT comments.id FROM photos\n",
    "JOIN comments on comments.photo_id = photos.id;\n",
    "\n",
    "SELECT photos.id FROM photos\n",
    "JOIN comments on comments.photo_id = photos.id;"
   ]
  },
  {
   "cell_type": "markdown",
   "id": "9c2be92f",
   "metadata": {},
   "source": [
    "SELECT WITH JOIN AS"
   ]
  },
  {
   "cell_type": "markdown",
   "id": "43857b18",
   "metadata": {},
   "source": [
    "SELECT p.user_id, c.contents FROM photos AS p\n",
    "JOIN comments as c on p.id = c.photo_id;\n",
    "\n",
    "SELECT com.contents AS com_contents FROM COMMENTS as com;\n",
    "\n",
    "SELECT p.url AS photo_url, u.username AS user_name \n",
    "FROM photos AS p JOIN users as u ON p.user_id = u.id;"
   ]
  },
  {
   "cell_type": "markdown",
   "id": "440896d0",
   "metadata": {},
   "source": [
    "Different types of JOINS"
   ]
  },
  {
   "cell_type": "markdown",
   "id": "54c2aed3",
   "metadata": {},
   "source": [
    "LEFT JOIN"
   ]
  },
  {
   "cell_type": "markdown",
   "id": "c0d103d4",
   "metadata": {},
   "source": [
    "SELECT p.url AS photo_url, u.username AS user_name \n",
    "FROM photos AS p LEFT JOIN users as u ON p.user_id = u.id;"
   ]
  },
  {
   "cell_type": "markdown",
   "id": "333303ad",
   "metadata": {},
   "source": [
    "RIGHT JOIN"
   ]
  },
  {
   "cell_type": "markdown",
   "id": "7b3e8fb8",
   "metadata": {},
   "source": [
    "SELECT p.url AS photo_url, u.username AS user_name \n",
    "FROM photos AS p RIGHT JOIN users as u ON p.user_id = u.id;"
   ]
  },
  {
   "cell_type": "markdown",
   "id": "86cd5b3a",
   "metadata": {},
   "source": [
    "FULL JOIN"
   ]
  },
  {
   "cell_type": "markdown",
   "id": "ab643180",
   "metadata": {},
   "source": [
    "SELECT p.url AS photo_url, u.username AS user_name \n",
    "FROM photos AS p FULL JOIN users as u ON p.user_id = u.id;"
   ]
  },
  {
   "cell_type": "markdown",
   "id": "23c9ddc4",
   "metadata": {},
   "source": [
    "JOIN PLUS WHERE"
   ]
  },
  {
   "cell_type": "markdown",
   "id": "5e463a52",
   "metadata": {},
   "source": [
    "SELECT url, contents FROM COMMENTS AS c\n",
    "INNER JOIN photos as p ON c.photo_id = p.id\n",
    "WHERE c.user_id = p.user_id;\n",
    "\n",
    "SELECT p.url, c.contents, u.username FROM COMMENTS AS c\n",
    "INNER JOIN photos as p ON c.photo_id = p.id\n",
    "INNER JOIN users as u ON u.id = c.user_id\n",
    "WHERE c.user_id = p.user_id;\n",
    "\n"
   ]
  },
  {
   "cell_type": "markdown",
   "id": "97aaa29f",
   "metadata": {},
   "source": [
    "GROUP BY/AGGREGATION"
   ]
  },
  {
   "cell_type": "markdown",
   "id": "d04ba5ff",
   "metadata": {},
   "source": [
    "SELECT user_id FROM comments \n",
    "GROUP BY user_id;\n",
    "<!-- You can only SELECT a column that you GROUP BY -->\n",
    "\n",
    "SELECT c.id as comment_id, count(c.user_id) AS\n",
    "how_many_users_wrote_the_comment\n",
    "FROM comments AS c GROUP BY c.id;\n",
    "\n",
    "SELECT c.user_id, count(c.id)\n",
    "FROM comments AS c GROUP BY c.user_id;\n",
    "\n",
    "SELECT user_id, count(*)\n",
    "FROM comments GROUP BY user_id;\n",
    "\n",
    "SELECT photot_id, COUNT(*) FROM comments\n",
    "WHERE photo_id < 3\n",
    "GROUP BY photo_id\n",
    "HAVING COUNT(*) > 2;\n",
    "\n",
    "SELECT user_id, count(*) FROM comments\n",
    "WHERE photo_id < 3\n",
    "group BY user_id\n",
    "HAVING COUNT (*) > 2;"
   ]
  },
  {
   "cell_type": "markdown",
   "id": "91070bbb",
   "metadata": {},
   "source": [
    "SORTING"
   ]
  },
  {
   "cell_type": "markdown",
   "id": "ada4b8d3",
   "metadata": {},
   "source": [
    "SELECT * FROM PRODUCTS\n",
    "ORDER BY weight;\n",
    "\n",
    "SELECT * FROM PRODUCTS\n",
    "ORDER BY weight ASC;\n",
    "\n",
    "SELECT * FROM PRODUCTS\n",
    "ORDER BY weight DESC;"
   ]
  },
  {
   "cell_type": "markdown",
   "id": "15f10d77",
   "metadata": {},
   "source": [
    "OFFSET - skips first N rows from the result set\n",
    "LIMIT - takes first N rows from the result set\n",
    "OFFSET limits the range of the original dataset, LIMIT takes first N rows from the limited dataset"
   ]
  },
  {
   "cell_type": "markdown",
   "id": "62ae7a4d",
   "metadata": {},
   "source": [
    "SELECT * FROM users LIMIT 5;\n",
    "SELECT * FROM users OFFSET 40 LIMIT 2;\n",
    "SELECT * FROM products ORDER BY price LIMIT 5;"
   ]
  },
  {
   "cell_type": "markdown",
   "id": "325bec69",
   "metadata": {},
   "source": [
    "SUBQUERIES"
   ]
  },
  {
   "cell_type": "markdown",
   "id": "340aa88d",
   "metadata": {},
   "source": [
    "SELECT name, price FROM products\n",
    "WHERE price > (\n",
    "\tSELECT MAX(price) FROM products\n",
    "  WHERE department = 'Toys'\n",
    ");"
   ]
  },
  {
   "cell_type": "markdown",
   "id": "565d3157",
   "metadata": {},
   "source": [
    "SELECT name, price, (\n",
    "  SELECT MAX(price) FROM products\n",
    ")\n",
    "FROM products\n",
    "WHERE price > 900;"
   ]
  },
  {
   "cell_type": "markdown",
   "id": "3f578ce9",
   "metadata": {},
   "source": [
    "SELECT name, price as p1, (\n",
    "  SELECT price as p2 FROM products WHERE id =1\n",
    ")\n",
    "FROM products\n",
    "WHERE price > 900;"
   ]
  },
  {
   "cell_type": "markdown",
   "id": "cc64a3e2",
   "metadata": {},
   "source": [
    "SELECT AVG(p.user_orders)\n",
    "FROM\n",
    "(\n",
    "  SELECT user_id, COUNT(*) AS user_orders \n",
    "  FROM orders \n",
    "  GROUP BY user_id\n",
    ") AS p\n"
   ]
  },
  {
   "cell_type": "markdown",
   "id": "b8d13c69",
   "metadata": {},
   "source": [
    "SELECT * FROM orders AS o\n",
    "WHERE o.product_id IN (\n",
    "  SELECT id FROM products as p\n",
    "  WHERE p.price/p.weight > 5\n",
    ")"
   ]
  },
  {
   "cell_type": "markdown",
   "id": "60b0b88e",
   "metadata": {},
   "source": [
    "SELECT p.name FROM products AS p\n",
    "WHERE p.price > (\n",
    "  SELECT AVG(subp.price) FROM products AS subp\n",
    ");"
   ]
  },
  {
   "cell_type": "markdown",
   "id": "17d73e59",
   "metadata": {},
   "source": [
    "SELECT name FROM products AS p\n",
    "WHERE p.department NOT IN (\n",
    "  SELECT p1.department FROM products AS p1\n",
    "  GROUP BY p1.department\n",
    "  HAVING MIN(p1.price) < 100\n",
    ");"
   ]
  },
  {
   "cell_type": "markdown",
   "id": "bcf7713e",
   "metadata": {},
   "source": [
    "SELECT p.name, p.department, p.price FROM products AS p\n",
    "WHERE p.price > (\n",
    "  SELECT MAX(p1.price) FROM products AS p1\n",
    "  WHERE p1.department = 'Industrial'\n",
    ")\n",
    "\n",
    "Which is equal to\n",
    "\n",
    "SELECT p.name, p.department, p.price FROM products AS p\n",
    "WHERE p.price > ALL (\n",
    "  SELECT price FROM products AS p1\n",
    "  WHERE p1.department = 'Industrial'\n",
    ")"
   ]
  },
  {
   "cell_type": "markdown",
   "id": "68bc009d",
   "metadata": {},
   "source": [
    "SELECT p.name FROM products p \n",
    "WHERE p.price > SOME (\n",
    "  SELECT p1.price FROM products p1 \n",
    "  WHERE p1.department = 'Industrial'\n",
    ");\n",
    "\n",
    "Which is equal to\n",
    "\n",
    "SELECT p.name FROM products p \n",
    "WHERE p.price > (\n",
    "  SELECT MIN(p1.price) FROM products p1 \n",
    "  WHERE p1.department = 'Industrial'\n",
    ");"
   ]
  },
  {
   "cell_type": "markdown",
   "id": "ca3a3323",
   "metadata": {},
   "source": [
    "SELECT p1.name, p1.price, p1.department FROM products as p1\n",
    "WHERE p1.price = (\n",
    "  SELECT MAX(p2.price) FROM products p2 \n",
    "  WHERE p1.department = p2.department\n",
    ")\n"
   ]
  },
  {
   "cell_type": "markdown",
   "id": "9be0ef51",
   "metadata": {},
   "source": [
    "SELECT name, (\n",
    "  SELECT COUNT(*) FROM ORDERS o\n",
    "  WHERE p.id = o.product_id\n",
    ")\n",
    "FROM products p;"
   ]
  },
  {
   "cell_type": "markdown",
   "id": "c474954c",
   "metadata": {},
   "source": [
    "DISTINCT - returns a list of unique values from inside a column"
   ]
  },
  {
   "cell_type": "markdown",
   "id": "a1585dca",
   "metadata": {},
   "source": [
    "SELECT DISTINCT department FROM products;\n",
    "\n",
    "SELECT COUNT(DISTINCT department) FROM products;\n",
    "\n",
    "SELECT DISTINCT department, name FROM products;"
   ]
  },
  {
   "cell_type": "markdown",
   "id": "15bf693c",
   "metadata": {},
   "source": [
    "GREATEST"
   ]
  },
  {
   "cell_type": "markdown",
   "id": "abf33472",
   "metadata": {},
   "source": [
    "SELECT name, GREATEST(weight*2, 30)\n",
    "FROM products;"
   ]
  },
  {
   "cell_type": "markdown",
   "id": "a9ccbb95",
   "metadata": {},
   "source": [
    "LEAST"
   ]
  },
  {
   "cell_type": "code",
   "execution_count": null,
   "id": "03d089c3",
   "metadata": {},
   "outputs": [],
   "source": [
    "SELECT name, LEAST(weight*2, 30)\n",
    "FROM products;"
   ]
  },
  {
   "cell_type": "markdown",
   "id": "423bd70e",
   "metadata": {},
   "source": [
    "CASE"
   ]
  },
  {
   "cell_type": "markdown",
   "id": "0a0dea1a",
   "metadata": {},
   "source": [
    "SELECT name, price,\n",
    "\tCASE \n",
    "  \tWHEN price > 600 THEN 'high'\n",
    "    WHEN price > 300 AND price < 600 THEN 'medium'\n",
    "    WHEN price < 300 THEN 'low'\n",
    "  END\n",
    "FROM products;"
   ]
  },
  {
   "cell_type": "code",
   "execution_count": null,
   "id": "5fef071f",
   "metadata": {},
   "outputs": [],
   "source": []
  }
 ],
 "metadata": {
  "kernelspec": {
   "display_name": "Python 3 (ipykernel)",
   "language": "python",
   "name": "python3"
  },
  "language_info": {
   "codemirror_mode": {
    "name": "ipython",
    "version": 3
   },
   "file_extension": ".py",
   "mimetype": "text/x-python",
   "name": "python",
   "nbconvert_exporter": "python",
   "pygments_lexer": "ipython3",
   "version": "3.10.0"
  }
 },
 "nbformat": 4,
 "nbformat_minor": 5
}
