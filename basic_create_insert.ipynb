{
 "cells": [
  {
   "cell_type": "markdown",
   "id": "50311f55",
   "metadata": {},
   "source": [
    "CREATE TABLE photos (\n",
    "id SERIAL PRIMARY KEY,\n",
    "url VARCHAR(200),\n",
    "user_id INTEGER REFERENCES users(id)\n",
    ");\n",
    " \n",
    "INSERT INTO photos (url, user_id)\n",
    "VALUES\n",
    "('http:/one.jpg', 4),\n",
    "('http:/two.jpg', 1),\n",
    "('http:/25.jpg', 1),\n",
    "('http:/36.jpg', 1),\n",
    "('http:/754.jpg', 2),\n",
    "('http:/35.jpg', 3),\n",
    "('http:/256.jpg', 4);"
   ]
  },
  {
   "cell_type": "markdown",
   "id": "8495dbc6",
   "metadata": {},
   "source": [
    "\"City\" table creation and inserting first rows"
   ]
  },
  {
   "cell_type": "markdown",
   "id": "b34889cc",
   "metadata": {},
   "source": [
    "CREATE TABLE cities (\n",
    "\tname VARCHAR(50),\n",
    "  country VARCHAR(50),\n",
    "  population INTEGER,\n",
    "  area INTEGER\n",
    ");"
   ]
  },
  {
   "cell_type": "markdown",
   "id": "a0bc2fae",
   "metadata": {},
   "source": [
    "Create table with specified PRIMARY KEY"
   ]
  },
  {
   "cell_type": "markdown",
   "id": "b713c646",
   "metadata": {},
   "source": [
    "CREATE TABLE users (\n",
    "  id SERIAL PRIMARY KEY,\n",
    "  username VARCHAR(20)\n",
    ");"
   ]
  },
  {
   "cell_type": "markdown",
   "id": "4de01ec1",
   "metadata": {},
   "source": [
    "Create table with specified PRIMARY KEY AND FOREIGN KEYS"
   ]
  },
  {
   "cell_type": "markdown",
   "id": "aa81a6ff",
   "metadata": {},
   "source": [
    "CREATE TABLE photos (\n",
    "  id SERIAL PRIMARY KEY,\n",
    "  url VARCHAR (100),\n",
    "  user_id INTEGER REFERENCES users(id)\n",
    ");"
   ]
  },
  {
   "cell_type": "markdown",
   "id": "275badb4",
   "metadata": {},
   "source": [
    "Create table with ON DELETE CASCADE DEFINED"
   ]
  },
  {
   "cell_type": "markdown",
   "id": "7906b39a",
   "metadata": {},
   "source": [
    "CREATE TABLE photos (\n",
    "id SERIAL PRIMARY KEY,\n",
    "url VARCHAR(200),\n",
    "user_id INTEGER REFERENCES users(id) ON DELETE CASCADE\n",
    ");\n",
    " \n",
    "INSERT INTO photos (url, user_id)\n",
    "VALUES\n",
    "('http:/one.jpg', 4),\n",
    "('http:/two.jpg', 1),\n",
    "('http:/25.jpg', 1),\n",
    "('http:/36.jpg', 1),\n",
    "('http:/754.jpg', 2),\n",
    "('http:/35.jpg', 3),\n",
    "('http:/256.jpg', 4);"
   ]
  },
  {
   "cell_type": "markdown",
   "id": "b0c84c1b",
   "metadata": {},
   "source": [
    "Create table with ON DELETE SET NULL DEFINED"
   ]
  },
  {
   "cell_type": "markdown",
   "id": "ba7242cf",
   "metadata": {},
   "source": [
    "CREATE TABLE photos (\n",
    "id SERIAL PRIMARY KEY,\n",
    "url VARCHAR(200),\n",
    "user_id INTEGER REFERENCES users(id) ON DELETE SET NULL\n",
    ");\n",
    " \n",
    "INSERT INTO photos (url, user_id)\n",
    "VALUES\n",
    "('http:/one.jpg', 4),\n",
    "('http:/two.jpg', 2),\n",
    "('http:/25.jpg', 3),\n",
    "('http:/36.jpg', 4),\n",
    "('http:/754.jpg', 2),\n",
    "('http:/35.jpg', 3),\n",
    "('http:/256.jpg', 4);"
   ]
  },
  {
   "cell_type": "markdown",
   "id": "e5b17905",
   "metadata": {},
   "source": [
    "Create table with CHECK and NOT NULL as DEFAULT"
   ]
  },
  {
   "cell_type": "markdown",
   "id": "5d5ad62c",
   "metadata": {},
   "source": [
    "CREATE TABLE orders (\n",
    "\tid SERIAL PRIMARY KEY,\n",
    "\tname VARCHAR(50) NOT NULL DEFAULT 'default_order',\n",
    "\tcreated_at TIMESTAMP NOT NULL,\n",
    "\test_delivery TIMESTAMP NOT NULL,\n",
    "\tCHECK (created_at < est_delivery)\n",
    ");"
   ]
  },
  {
   "cell_type": "markdown",
   "id": "d023d933",
   "metadata": {},
   "source": [
    "Inserting first row with values corresponding the consecutive columns"
   ]
  },
  {
   "cell_type": "markdown",
   "id": "6a6cdaa4",
   "metadata": {},
   "source": [
    "INSERT INTO cities (name, country, population, area)\n",
    "VALUES ('Warsaw', 'Poland', 100000, 200);"
   ]
  },
  {
   "cell_type": "markdown",
   "id": "0652cdef",
   "metadata": {},
   "source": [
    "Inserting multiple rows"
   ]
  },
  {
   "cell_type": "markdown",
   "id": "f0d62fa0",
   "metadata": {},
   "source": [
    "INSERT INTO cities (name, country, population, area)\n",
    "VALUES \n",
    "    ('Lublin', 'Poland', 30000, 100),\n",
    "    ('Rzeszow', 'Poland', 20000, 50);"
   ]
  },
  {
   "cell_type": "markdown",
   "id": "01b4f5ef",
   "metadata": {},
   "source": [
    "Inserting into table that records have foreign keys to recoreds from different tables\n",
    "\n",
    "1 is a PK of 'user' in 'users' table. This value must appear as a PK in 'users' records"
   ]
  },
  {
   "cell_type": "markdown",
   "id": "2bc1ff7a",
   "metadata": {},
   "source": [
    "INSERT INTO photos (url, user_id)\n",
    "VALUES ('asdasdasd', 1);"
   ]
  },
  {
   "cell_type": "markdown",
   "id": "1434e93f",
   "metadata": {},
   "source": [
    "We add NULL as FK, when there is no reference to record from referent table"
   ]
  },
  {
   "cell_type": "markdown",
   "id": "adcab4f0",
   "metadata": {},
   "source": [
    "INSERT INTO photos (url, user_id)\n",
    "VALUES ('sdds', NULL);"
   ]
  },
  {
   "cell_type": "markdown",
   "id": "5bf77778",
   "metadata": {},
   "source": [
    "INSERT with DATE as TIMESTAMP"
   ]
  },
  {
   "cell_type": "markdown",
   "id": "c21e1fa4",
   "metadata": {},
   "source": [
    "INSERT INTO orders (name, created_at, est_delivery)\n",
    "VALUES('order_1', '2023-SEP-17'::TIMESTAMP, '2023-SEP-23'::TIMESTAMP);"
   ]
  },
  {
   "cell_type": "code",
   "execution_count": null,
   "id": "f7d2e332",
   "metadata": {},
   "outputs": [],
   "source": []
  }
 ],
 "metadata": {
  "kernelspec": {
   "display_name": "Python 3 (ipykernel)",
   "language": "python",
   "name": "python3"
  },
  "language_info": {
   "codemirror_mode": {
    "name": "ipython",
    "version": 3
   },
   "file_extension": ".py",
   "mimetype": "text/x-python",
   "name": "python",
   "nbconvert_exporter": "python",
   "pygments_lexer": "ipython3",
   "version": "3.10.0"
  }
 },
 "nbformat": 4,
 "nbformat_minor": 5
}
